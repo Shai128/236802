{
 "cells": [
  {
   "cell_type": "code",
   "execution_count": 4,
   "metadata": {},
   "outputs": [
    {
     "name": "stdout",
     "output_type": "stream",
     "text": [
      "The autoreload extension is already loaded. To reload it, use:\n",
      "  %reload_ext autoreload\n"
     ]
    }
   ],
   "source": [
    "import pandas as pd\n",
    "from main import result_path\n",
    "import numpy as np\n",
    "import os\n",
    "%load_ext autoreload\n",
    "%autoreload 2"
   ]
  },
  {
   "cell_type": "code",
   "execution_count": 10,
   "metadata": {},
   "outputs": [
    {
     "name": "stdout",
     "output_type": "stream",
     "text": [
      "['.DS_Store', 'IPS_example_weights_with_label.json', 'compas-scores-two-years.csv', 'mean_std.json', 'test.csv', 'train.csv', 'vocabulary.json']\n"
     ]
    }
   ],
   "source": [
    "dataset_name = 'Compas'\n",
    "# path = result_path(dataset_name)\n",
    "print(os.listdir('data/compas'))\n"
   ]
  },
  {
   "cell_type": "code",
   "execution_count": 4,
   "metadata": {
    "scrolled": false
   },
   "outputs": [
    {
     "data": {
      "text/html": [
       "<div>\n",
       "<style scoped>\n",
       "    .dataframe tbody tr th:only-of-type {\n",
       "        vertical-align: middle;\n",
       "    }\n",
       "\n",
       "    .dataframe tbody tr th {\n",
       "        vertical-align: top;\n",
       "    }\n",
       "\n",
       "    .dataframe thead th {\n",
       "        text-align: right;\n",
       "    }\n",
       "</style>\n",
       "<table border=\"1\" class=\"dataframe\">\n",
       "  <thead>\n",
       "    <tr style=\"text-align: right;\">\n",
       "      <th></th>\n",
       "      <th>Accuracy</th>\n",
       "      <th>min subgroup AUC</th>\n",
       "      <th>average subgroup AUC</th>\n",
       "      <th>minority subgroup AUC</th>\n",
       "      <th>DAccuracy sex group 0</th>\n",
       "      <th>DAccuracy sex group 1</th>\n",
       "      <th>DAccuracy race group 0</th>\n",
       "      <th>DAccuracy race group 1</th>\n",
       "      <th>DAccuracy race group 2</th>\n",
       "      <th>corr</th>\n",
       "      <th>Test WSC</th>\n",
       "      <th>avg. DAccuracy</th>\n",
       "    </tr>\n",
       "  </thead>\n",
       "  <tbody>\n",
       "    <tr>\n",
       "      <th>Compas_baseline</th>\n",
       "      <td>0.673464</td>\n",
       "      <td>0.644826</td>\n",
       "      <td>0.710522</td>\n",
       "      <td>0.739155</td>\n",
       "      <td>0.016634</td>\n",
       "      <td>0.004048</td>\n",
       "      <td>0.010613</td>\n",
       "      <td>0.022910</td>\n",
       "      <td>0.018873</td>\n",
       "      <td>0.036111</td>\n",
       "      <td>0.614628</td>\n",
       "      <td>0.014616</td>\n",
       "    </tr>\n",
       "    <tr>\n",
       "      <th>Compas_ARL</th>\n",
       "      <td>0.671386</td>\n",
       "      <td>0.641181</td>\n",
       "      <td>0.710339</td>\n",
       "      <td>0.739631</td>\n",
       "      <td>0.013613</td>\n",
       "      <td>0.003333</td>\n",
       "      <td>0.008098</td>\n",
       "      <td>0.026819</td>\n",
       "      <td>0.014549</td>\n",
       "      <td>0.037297</td>\n",
       "      <td>0.590262</td>\n",
       "      <td>0.013282</td>\n",
       "    </tr>\n",
       "    <tr>\n",
       "      <th>Compas_ImprovedModel</th>\n",
       "      <td>0.673072</td>\n",
       "      <td>0.642709</td>\n",
       "      <td>0.711267</td>\n",
       "      <td>0.742484</td>\n",
       "      <td>0.016484</td>\n",
       "      <td>0.004007</td>\n",
       "      <td>0.007562</td>\n",
       "      <td>0.023755</td>\n",
       "      <td>0.015783</td>\n",
       "      <td>0.036357</td>\n",
       "      <td>0.619283</td>\n",
       "      <td>0.013518</td>\n",
       "    </tr>\n",
       "  </tbody>\n",
       "</table>\n",
       "</div>"
      ],
      "text/plain": [
       "                      Accuracy  min subgroup AUC  average subgroup AUC  \\\n",
       "Compas_baseline       0.673464          0.644826              0.710522   \n",
       "Compas_ARL            0.671386          0.641181              0.710339   \n",
       "Compas_ImprovedModel  0.673072          0.642709              0.711267   \n",
       "\n",
       "                      minority subgroup AUC  DAccuracy sex group 0  \\\n",
       "Compas_baseline                    0.739155               0.016634   \n",
       "Compas_ARL                         0.739631               0.013613   \n",
       "Compas_ImprovedModel               0.742484               0.016484   \n",
       "\n",
       "                      DAccuracy sex group 1  DAccuracy race group 0  \\\n",
       "Compas_baseline                    0.004048                0.010613   \n",
       "Compas_ARL                         0.003333                0.008098   \n",
       "Compas_ImprovedModel               0.004007                0.007562   \n",
       "\n",
       "                      DAccuracy race group 1  DAccuracy race group 2  \\\n",
       "Compas_baseline                     0.022910                0.018873   \n",
       "Compas_ARL                          0.026819                0.014549   \n",
       "Compas_ImprovedModel                0.023755                0.015783   \n",
       "\n",
       "                          corr  Test WSC  avg. DAccuracy  \n",
       "Compas_baseline       0.036111  0.614628        0.014616  \n",
       "Compas_ARL            0.037297  0.590262        0.013282  \n",
       "Compas_ImprovedModel  0.036357  0.619283        0.013518  "
      ]
     },
     "execution_count": 4,
     "metadata": {},
     "output_type": "execute_result"
    }
   ],
   "source": [
    "\n",
    "# methond_names = ['baseline', 'ARL', 'ImprovedModel']\n",
    "\n",
    "# methond_names = ['baseline', 'ARL']\n",
    "\n",
    "\n",
    "# for corr in [0.1, 0.2, 0.5, 0.05]:\n",
    "#     for disc in [0.1, 0.2, 0.5, 0.05, 1]:\n",
    "#         methond_names += [f\"ImprovedModel_corr_{corr}_{disc}\"]\n",
    "        \n",
    "        \n",
    "df = pd.DataFrame()\n",
    "for method_name in methond_names:\n",
    "    curr_df = pd.DataFrame()\n",
    "    try:\n",
    "        for seed in range(20):\n",
    "            \n",
    "            path = result_path(dataset_name, method_name, seed)\n",
    "            seed_df = pd.read_csv(path, index_col='Unnamed: 0')\n",
    "            curr_df = pd.concat([curr_df, seed_df])\n",
    "            \n",
    "    except Exception as e:\n",
    "#         print(f\"read only {len(curr_df)} seeds.\")\n",
    "        pass\n",
    "\n",
    "    curr_df = curr_df.mean()\n",
    "    curr_df.name = (f\"{dataset_name}_{method_name}\")\n",
    "    df = pd.concat([df, curr_df], axis=1)\n",
    "    \n",
    "df = df.T\n",
    "\n",
    "features_to_display = ['Accuracy', 'min subgroup AUC', 'average subgroup AUC', 'minority subgroup AUC']\n",
    "DeltaAccuracy_features = list(filter(lambda x: ' group' in x and 'DAccuracy' in x, df.columns))\n",
    "features_to_display += DeltaAccuracy_features\n",
    "df['avg. DAccuracy'] = df[DeltaAccuracy_features].mean(axis=1)\n",
    "\n",
    "features_to_display += ['corr', 'Test WSC', 'avg. DAccuracy']\n",
    "df['HSIC'] = np.log10(df['HSIC'])\n",
    "df[features_to_display]\n"
   ]
  },
  {
   "cell_type": "code",
   "execution_count": 3,
   "metadata": {},
   "outputs": [],
   "source": [
    "# An Idea: iteratively decrease the loss of every example.\n",
    "# start by decreasing all losses to 1. then to 0.5, then to 0.25 and so on..."
   ]
  },
  {
   "cell_type": "code",
   "execution_count": null,
   "metadata": {},
   "outputs": [],
   "source": []
  }
 ],
 "metadata": {
  "kernelspec": {
   "display_name": "Python 3",
   "language": "python",
   "name": "python3"
  },
  "language_info": {
   "codemirror_mode": {
    "name": "ipython",
    "version": 3
   },
   "file_extension": ".py",
   "mimetype": "text/x-python",
   "name": "python",
   "nbconvert_exporter": "python",
   "pygments_lexer": "ipython3",
   "version": "3.7.4"
  }
 },
 "nbformat": 4,
 "nbformat_minor": 5
}
