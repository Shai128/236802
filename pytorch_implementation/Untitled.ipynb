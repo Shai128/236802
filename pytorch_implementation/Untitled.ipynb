{
 "cells": [
  {
   "cell_type": "code",
   "execution_count": 3,
   "id": "2c445e08",
   "metadata": {},
   "outputs": [],
   "source": [
    "import pandas as pd\n",
    "\n",
    "from main import results_dir"
   ]
  },
  {
   "cell_type": "code",
   "execution_count": null,
   "id": "ff1aab08",
   "metadata": {},
   "outputs": [],
   "source": []
  },
  {
   "cell_type": "code",
   "execution_count": 127,
   "id": "39fcf068",
   "metadata": {
    "scrolled": false
   },
   "outputs": [
    {
     "data": {
      "text/html": [
       "<div>\n",
       "<style scoped>\n",
       "    .dataframe tbody tr th:only-of-type {\n",
       "        vertical-align: middle;\n",
       "    }\n",
       "\n",
       "    .dataframe tbody tr th {\n",
       "        vertical-align: top;\n",
       "    }\n",
       "\n",
       "    .dataframe thead th {\n",
       "        text-align: right;\n",
       "    }\n",
       "</style>\n",
       "<table border=\"1\" class=\"dataframe\">\n",
       "  <thead>\n",
       "    <tr style=\"text-align: right;\">\n",
       "      <th></th>\n",
       "      <th>Accuracy</th>\n",
       "      <th>min subgroup AUC</th>\n",
       "      <th>average subgroup AUC</th>\n",
       "      <th>minority subgroup AUC</th>\n",
       "    </tr>\n",
       "  </thead>\n",
       "  <tbody>\n",
       "    <tr>\n",
       "      <th>Compas_baseline</th>\n",
       "      <td>0.674965</td>\n",
       "      <td>0.631612</td>\n",
       "      <td>0.712741</td>\n",
       "      <td>0.756560</td>\n",
       "    </tr>\n",
       "    <tr>\n",
       "      <th>Compas_ARL</th>\n",
       "      <td>0.670300</td>\n",
       "      <td>0.628061</td>\n",
       "      <td>0.708841</td>\n",
       "      <td>0.745124</td>\n",
       "    </tr>\n",
       "    <tr>\n",
       "      <th>Compas_ImprovedModel</th>\n",
       "      <td>0.672656</td>\n",
       "      <td>0.634496</td>\n",
       "      <td>0.708875</td>\n",
       "      <td>0.734927</td>\n",
       "    </tr>\n",
       "  </tbody>\n",
       "</table>\n",
       "</div>"
      ],
      "text/plain": [
       "                      Accuracy  min subgroup AUC  average subgroup AUC  \\\n",
       "Compas_baseline       0.674965          0.631612              0.712741   \n",
       "Compas_ARL            0.670300          0.628061              0.708841   \n",
       "Compas_ImprovedModel  0.672656          0.634496              0.708875   \n",
       "\n",
       "                      minority subgroup AUC  \n",
       "Compas_baseline                    0.756560  \n",
       "Compas_ARL                         0.745124  \n",
       "Compas_ImprovedModel               0.734927  "
      ]
     },
     "execution_count": 127,
     "metadata": {},
     "output_type": "execute_result"
    }
   ],
   "source": [
    "dataset_name = 'Compas'\n",
    "method_name = 'ARL'\n",
    "\n",
    "methond_names = ['baseline', 'ARL', 'ImprovedModel']\n",
    "\n",
    "df = pd.DataFrame()\n",
    "for method_name in methond_names:\n",
    "    curr_df = pd.DataFrame()\n",
    "    for seed in range(10):\n",
    "        results_name = f\"{dataset_name}_{method_name}_seed={seed}\"\n",
    "        seed_df = pd.read_csv(f\"{results_dir}/{results_name}.csv\", index_col='Unnamed: 0')\n",
    "        curr_df = pd.concat([curr_df, seed_df])\n",
    "    curr_df = curr_df.mean()\n",
    "    curr_df.name = (f\"{dataset_name}_{method_name}\")\n",
    "    df = pd.concat([df, curr_df], axis=1)\n",
    "    \n",
    "df = df.T\n",
    "\n",
    "features_to_display = ['Accuracy', 'min subgroup AUC', 'average subgroup AUC', 'minority subgroup AUC']\n",
    "df[features_to_display]\n",
    "\n",
    "# df1 = \n",
    "\n",
    "\n",
    "# results_name = dataset_name + '_'+ 'baseline'\n",
    "\n",
    "# df2 = pd.read_csv(f\"{results_dir}/{results_name}.csv\", index_col='Unnamed: 0')\n",
    "\n",
    "# results_name = dataset_name + '_'+ 'ImprovedModel'\n",
    "\n",
    "# df3 = pd.read_csv(f\"{results_dir}/{results_name}.csv\", index_col='Unnamed: 0')\n",
    "\n",
    "\n",
    "# df = pd.concat([df1, df2, df3])\n",
    "\n",
    "\n"
   ]
  },
  {
   "cell_type": "code",
   "execution_count": 123,
   "id": "f0e2508a",
   "metadata": {},
   "outputs": [],
   "source": [
    "# An Idea: iteratively decrease the loss of every example.\n",
    "# start by decreasing all losses to 1. then to 0.5, then to 0.25 and so on..."
   ]
  },
  {
   "cell_type": "code",
   "execution_count": null,
   "id": "8968f3b5",
   "metadata": {},
   "outputs": [],
   "source": []
  }
 ],
 "metadata": {
  "kernelspec": {
   "display_name": "Python 3",
   "language": "python",
   "name": "python3"
  },
  "language_info": {
   "codemirror_mode": {
    "name": "ipython",
    "version": 3
   },
   "file_extension": ".py",
   "mimetype": "text/x-python",
   "name": "python",
   "nbconvert_exporter": "python",
   "pygments_lexer": "ipython3",
   "version": "3.8.6"
  }
 },
 "nbformat": 4,
 "nbformat_minor": 5
}
