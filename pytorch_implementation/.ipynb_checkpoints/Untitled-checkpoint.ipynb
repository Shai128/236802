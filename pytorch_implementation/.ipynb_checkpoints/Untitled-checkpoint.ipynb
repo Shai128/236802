{
 "cells": [
  {
   "cell_type": "code",
   "execution_count": 3,
   "id": "2c445e08",
   "metadata": {},
   "outputs": [],
   "source": [
    "import pandas as pd\n",
    "\n",
    "from main import results_dir"
   ]
  },
  {
   "cell_type": "code",
   "execution_count": null,
   "id": "265a9060",
   "metadata": {},
   "outputs": [],
   "source": []
  },
  {
   "cell_type": "code",
   "execution_count": 122,
   "id": "39fcf068",
   "metadata": {
    "scrolled": false
   },
   "outputs": [
    {
     "data": {
      "text/html": [
       "<div>\n",
       "<style scoped>\n",
       "    .dataframe tbody tr th:only-of-type {\n",
       "        vertical-align: middle;\n",
       "    }\n",
       "\n",
       "    .dataframe tbody tr th {\n",
       "        vertical-align: top;\n",
       "    }\n",
       "\n",
       "    .dataframe thead th {\n",
       "        text-align: right;\n",
       "    }\n",
       "</style>\n",
       "<table border=\"1\" class=\"dataframe\">\n",
       "  <thead>\n",
       "    <tr style=\"text-align: right;\">\n",
       "      <th></th>\n",
       "      <th>Accuracy</th>\n",
       "      <th>min subgroup AUC</th>\n",
       "      <th>average subgroup AUC</th>\n",
       "      <th>minority subgroup AUC</th>\n",
       "    </tr>\n",
       "  </thead>\n",
       "  <tbody>\n",
       "    <tr>\n",
       "      <th>Compas_baseline</th>\n",
       "      <td>0.672794</td>\n",
       "      <td>0.638422</td>\n",
       "      <td>0.711427</td>\n",
       "      <td>0.743288</td>\n",
       "    </tr>\n",
       "    <tr>\n",
       "      <th>Compas_ARL</th>\n",
       "      <td>0.677321</td>\n",
       "      <td>0.631977</td>\n",
       "      <td>0.713386</td>\n",
       "      <td>0.752236</td>\n",
       "    </tr>\n",
       "    <tr>\n",
       "      <th>Compas_ImprovedModel</th>\n",
       "      <td>0.673441</td>\n",
       "      <td>0.638420</td>\n",
       "      <td>0.710722</td>\n",
       "      <td>0.742568</td>\n",
       "    </tr>\n",
       "  </tbody>\n",
       "</table>\n",
       "</div>"
      ],
      "text/plain": [
       "                      Accuracy  min subgroup AUC  average subgroup AUC  \\\n",
       "Compas_baseline       0.672794          0.638422              0.711427   \n",
       "Compas_ARL            0.677321          0.631977              0.713386   \n",
       "Compas_ImprovedModel  0.673441          0.638420              0.710722   \n",
       "\n",
       "                      minority subgroup AUC  \n",
       "Compas_baseline                    0.743288  \n",
       "Compas_ARL                         0.752236  \n",
       "Compas_ImprovedModel               0.742568  "
      ]
     },
     "execution_count": 122,
     "metadata": {},
     "output_type": "execute_result"
    }
   ],
   "source": [
    "dataset_name = 'Compas'\n",
    "method_name = 'ARL'\n",
    "\n",
    "methond_names = ['baseline', 'ARL', 'ImprovedModel']\n",
    "\n",
    "df = pd.DataFrame()\n",
    "for method_name in methond_names:\n",
    "    curr_df = pd.DataFrame()\n",
    "    for seed in range(10):\n",
    "        results_name = f\"{dataset_name}_{method_name}_seed={seed}\"\n",
    "        seed_df = pd.read_csv(f\"{results_dir}/{results_name}.csv\", index_col='Unnamed: 0')\n",
    "        curr_df = pd.concat([curr_df, seed_df])\n",
    "    curr_df = curr_df.mean()\n",
    "    curr_df.name = (f\"{dataset_name}_{method_name}\")\n",
    "    df = pd.concat([df, curr_df], axis=1)\n",
    "    \n",
    "df = df.T\n",
    "\n",
    "features_to_display = ['Accuracy', 'min subgroup AUC', 'average subgroup AUC', 'minority subgroup AUC']\n",
    "df[features_to_display]\n",
    "\n",
    "# df1 = \n",
    "\n",
    "\n",
    "# results_name = dataset_name + '_'+ 'baseline'\n",
    "\n",
    "# df2 = pd.read_csv(f\"{results_dir}/{results_name}.csv\", index_col='Unnamed: 0')\n",
    "\n",
    "# results_name = dataset_name + '_'+ 'ImprovedModel'\n",
    "\n",
    "# df3 = pd.read_csv(f\"{results_dir}/{results_name}.csv\", index_col='Unnamed: 0')\n",
    "\n",
    "\n",
    "# df = pd.concat([df1, df2, df3])\n",
    "\n",
    "\n"
   ]
  },
  {
   "cell_type": "code",
   "execution_count": 123,
   "id": "8085ec27",
   "metadata": {},
   "outputs": [],
   "source": [
    "# An Idea: iteratively decrease the loss of every example.\n",
    "# start by decreasing all losses to 1. then to 0.5, then to 0.25 and so on..."
   ]
  },
  {
   "cell_type": "code",
   "execution_count": null,
   "id": "a3133f90",
   "metadata": {},
   "outputs": [],
   "source": []
  }
 ],
 "metadata": {
  "kernelspec": {
   "display_name": "Python 3",
   "language": "python",
   "name": "python3"
  },
  "language_info": {
   "codemirror_mode": {
    "name": "ipython",
    "version": 3
   },
   "file_extension": ".py",
   "mimetype": "text/x-python",
   "name": "python",
   "nbconvert_exporter": "python",
   "pygments_lexer": "ipython3",
   "version": "3.8.6"
  }
 },
 "nbformat": 4,
 "nbformat_minor": 5
}
